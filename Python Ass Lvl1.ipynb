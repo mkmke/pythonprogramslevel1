{
 "cells": [
  {
   "cell_type": "code",
   "execution_count": 6,
   "id": "dd6c4181",
   "metadata": {},
   "outputs": [
    {
     "name": "stdout",
     "output_type": "stream",
     "text": [
      "Hello world!!\n"
     ]
    }
   ],
   "source": [
    "# 1.HELLO WORLD!!\n",
    "\n",
    "print(\"Hello world!!\")\n"
   ]
  },
  {
   "cell_type": "code",
   "execution_count": 7,
   "id": "3a56c119",
   "metadata": {
    "scrolled": true
   },
   "outputs": [
    {
     "name": "stdout",
     "output_type": "stream",
     "text": [
      "Enter A :5\n",
      "Enter B :6\n",
      "The addition of the given two number is 11\n"
     ]
    }
   ],
   "source": [
    "#2.Addition of two numbers\n",
    "\n",
    "A=int(input(\"Enter A :\"))\n",
    "B=int(input(\"Enter B :\"))\n",
    "C=A+B\n",
    "print(\"The addition of the given two number is\",C)"
   ]
  },
  {
   "cell_type": "code",
   "execution_count": 1,
   "id": "6c1f44aa",
   "metadata": {},
   "outputs": [
    {
     "name": "stdout",
     "output_type": "stream",
     "text": [
      "Enter A :5\n",
      "Enter B :10\n",
      "10\n",
      "5\n"
     ]
    }
   ],
   "source": [
    "#3.Swapping of number without temp variable\n",
    "\n",
    "A=int(input(\"Enter A :\"))\n",
    "B=int(input(\"Enter B :\"))\n",
    "A,B=B,A\n",
    "\n",
    "print(A)\n",
    "print(B)"
   ]
  },
  {
   "cell_type": "code",
   "execution_count": 3,
   "id": "0e3c6a7c",
   "metadata": {},
   "outputs": [
    {
     "name": "stdout",
     "output_type": "stream",
     "text": [
      "enter your kilometer value: 58\n",
      "Your Kilometers Value in miles is =  36.039518 miles.\n"
     ]
    }
   ],
   "source": [
    "#4.Kilometers to Miles\n",
    "\n",
    "a=int(input(\"enter your kilometer value: \"))\n",
    "a=a*0.621371\n",
    "print(\"Your Kilometers Value in miles is = \",a,\"miles.\")"
   ]
  },
  {
   "cell_type": "code",
   "execution_count": 14,
   "id": "3f7b4b1c",
   "metadata": {},
   "outputs": [
    {
     "name": "stdout",
     "output_type": "stream",
     "text": [
      "Enter Your Number :-58\n",
      "-58 is negative\n"
     ]
    }
   ],
   "source": [
    "#5.Positive,negative,zero \n",
    "\n",
    "A=int(input(\"Enter Your Number :\"))\n",
    "if(A>0):\n",
    "          print(A,\"is positive\")\n",
    "elif(A<0):\n",
    "          print(A,\"is negative\")\n",
    "else:\n",
    "          print(A,\"is zero\")\n",
    "          "
   ]
  },
  {
   "cell_type": "code",
   "execution_count": 53,
   "id": "05d61679",
   "metadata": {},
   "outputs": [
    {
     "name": "stdout",
     "output_type": "stream",
     "text": [
      "Enter the year:2005\n",
      "2005 is not a leap year\n"
     ]
    }
   ],
   "source": [
    "#6.Leap year (checking)\n",
    "\n",
    "A=int(input(\"Enter the year:\"))\n",
    "if(A%4==0 and A%100!=0)or(A%400==0):\n",
    "    print(A,\"is a leap year\")\n",
    "else:\n",
    "    print(A,\"is not a leap year\")    "
   ]
  },
  {
   "cell_type": "code",
   "execution_count": 47,
   "id": "bfb1cc6e",
   "metadata": {},
   "outputs": [
    {
     "name": "stdout",
     "output_type": "stream",
     "text": [
      "Enter your range number:58\n",
      "The prime nmubers of the given range are:\n",
      "2\n",
      "3\n",
      "5\n",
      "7\n",
      "11\n",
      "13\n",
      "17\n",
      "19\n",
      "23\n",
      "29\n",
      "31\n",
      "37\n",
      "41\n",
      "43\n",
      "47\n",
      "53\n"
     ]
    }
   ],
   "source": [
    "#7.Prime numbers for the given range\n",
    "\n",
    "a=int(input(\"Enter your range number:\"))\n",
    "c=0\n",
    "print(\"The prime nmubers of the given range are:\")\n",
    "for i in range(2,a):\n",
    "    c=0\n",
    "    for j in range(2,i):\n",
    "        if i%j==0:\n",
    "            c=1\n",
    "    if c==0:\n",
    "        print(i)\n"
   ]
  },
  {
   "cell_type": "code",
   "execution_count": 46,
   "id": "a424f497",
   "metadata": {},
   "outputs": [
    {
     "name": "stdout",
     "output_type": "stream",
     "text": [
      "Enter the range: 56\n",
      "The fibonacci numbers are: \n",
      "1\n",
      "2\n",
      "3\n",
      "5\n",
      "8\n",
      "13\n",
      "21\n",
      "34\n",
      "55\n",
      "89\n",
      "144\n",
      "233\n",
      "377\n",
      "610\n",
      "987\n",
      "1597\n",
      "2584\n",
      "4181\n",
      "6765\n",
      "10946\n",
      "17711\n",
      "28657\n",
      "46368\n",
      "75025\n",
      "121393\n",
      "196418\n",
      "317811\n",
      "514229\n",
      "832040\n",
      "1346269\n",
      "2178309\n",
      "3524578\n",
      "5702887\n",
      "9227465\n",
      "14930352\n",
      "24157817\n",
      "39088169\n",
      "63245986\n",
      "102334155\n",
      "165580141\n",
      "267914296\n",
      "433494437\n",
      "701408733\n",
      "1134903170\n",
      "1836311903\n",
      "2971215073\n",
      "4807526976\n",
      "7778742049\n",
      "12586269025\n",
      "20365011074\n",
      "32951280099\n",
      "53316291173\n",
      "86267571272\n",
      "139583862445\n"
     ]
    }
   ],
   "source": [
    "#8.Fibbonacci nmubers\n",
    "\n",
    "a=0\n",
    "b=1\n",
    "n=int(input(\"Enter the range: \"))\n",
    "print(\"The fibonacci numbers are: \")\n",
    "for x in range(1,n-1,1):\n",
    "    sum=a+b\n",
    "    print(sum)\n",
    "    a=b\n",
    "    b=sum\n",
    "\n",
    "\n"
   ]
  },
  {
   "cell_type": "code",
   "execution_count": 52,
   "id": "2084ef73",
   "metadata": {
    "scrolled": true
   },
   "outputs": [
    {
     "name": "stdout",
     "output_type": "stream",
     "text": [
      "Enter your number:371\n",
      "It is an armstrong number\n"
     ]
    }
   ],
   "source": [
    "#9.Armstrong nnumber\n",
    "\n",
    "y=int(input(\"Enter your number:\"))\n",
    "sum=0 \n",
    "temp=y \n",
    "d=temp%10 \n",
    "e=(temp//10)%10 \n",
    "f=int(temp/100) \n",
    "sum=(d**3)+(e**3)+(f**3)\n",
    "if sum==y: \n",
    "    print(\"It is an armstrong number\") \n",
    "else: \n",
    "    print(\"It is not an armstrong number\")"
   ]
  },
  {
   "cell_type": "code",
   "execution_count": 4,
   "id": "7a22fcf2",
   "metadata": {},
   "outputs": [
    {
     "name": "stdout",
     "output_type": "stream",
     "text": [
      "enter the sum for n th term: 58\n",
      "sum of n terms 1711\n"
     ]
    },
    {
     "data": {
      "text/plain": [
       "10"
      ]
     },
     "execution_count": 4,
     "metadata": {},
     "output_type": "execute_result"
    }
   ],
   "source": [
    "#10.Sum of n numbers for the given range\n",
    "\n",
    "y=int(input(\"enter the sum for n th term: \"))\n",
    "sum=0\n",
    "for x in range(1,y+1,1):\n",
    "    sum+=x\n",
    "print(\"sum of n terms\",sum)\n",
    "10\n"
   ]
  },
  {
   "cell_type": "code",
   "execution_count": 32,
   "id": "6f97b921",
   "metadata": {
    "scrolled": true
   },
   "outputs": [
    {
     "name": "stdout",
     "output_type": "stream",
     "text": [
      "Enter your number: 9\n",
      "*\n",
      "**\n",
      "***\n",
      "****\n",
      "*****\n",
      "******\n",
      "*******\n",
      "********\n",
      "*********\n"
     ]
    }
   ],
   "source": [
    "#11.show stars(rows)\n",
    "\n",
    "def show_stars(rows):\n",
    "    for i in range(1, rows+1):\n",
    "        print(\"*\"*i)\n",
    "\n",
    "show_stars(int(input(\"Enter your number: \")))"
   ]
  },
  {
   "cell_type": "code",
   "execution_count": 23,
   "id": "19ab8bf1",
   "metadata": {},
   "outputs": [
    {
     "name": "stdout",
     "output_type": "stream",
     "text": [
      "Enter your string:dvncvcnjj\n",
      "Enter the index number where u want to remove: 5\n",
      "cnjj\n"
     ]
    }
   ],
   "source": [
    "#12.New string from old string by removing\n",
    "\n",
    "def remove_chars(str, n):\n",
    "    return str[n:]\n",
    "my_string = input(\"Enter your string:\")\n",
    "i=int(input(\"Enter the index number where u want to remove: \"))\n",
    "new_string = remove_chars(my_string, i)\n",
    "print(new_string)"
   ]
  },
  {
   "cell_type": "code",
   "execution_count": 2,
   "id": "a9e1c7b9",
   "metadata": {},
   "outputs": [
    {
     "name": "stdout",
     "output_type": "stream",
     "text": [
      "The numbers divisible by 5 from the list are:\n",
      "70\n",
      "35\n",
      "55\n",
      "75\n"
     ]
    }
   ],
   "source": [
    "#13.Numbers divisible by 5\n",
    "\n",
    "numbers = [47,96,56,22,70,35,53,55,48,75,36]\n",
    "print(\"The numbers divisible by 5 from the list are:\")\n",
    "for number in numbers:\n",
    "    if number % 5 == 0:\n",
    "        print(number)\n"
   ]
  },
  {
   "cell_type": "code",
   "execution_count": 34,
   "id": "faaef2f3",
   "metadata": {
    "scrolled": false
   },
   "outputs": [
    {
     "name": "stdout",
     "output_type": "stream",
     "text": [
      "The count of the substring is :  2\n"
     ]
    }
   ],
   "source": [
    "#14.HI Count\n",
    "\n",
    "str=(\"Hi,This is my python assignment ,Hi\")\n",
    "substr=\"Hi\"\n",
    "count=str.count(substr)\n",
    "print(\"The count of the substring is : \",count)"
   ]
  },
  {
   "cell_type": "code",
   "execution_count": 36,
   "id": "ae740095",
   "metadata": {},
   "outputs": [
    {
     "name": "stdout",
     "output_type": "stream",
     "text": [
      "Enter the range: 5\n",
      "1 \n",
      "2 2 \n",
      "3 3 3 \n",
      "4 4 4 4 \n",
      "5 5 5 5 5 \n"
     ]
    }
   ],
   "source": [
    "#15.Number Pattern\n",
    "\n",
    "n=int(input(\"Enter the range: \"))\n",
    "for i in range(1, n+1):\n",
    "    for j in range(i):\n",
    "        print(i, end=\" \")\n",
    "    print()\n"
   ]
  },
  {
   "cell_type": "code",
   "execution_count": 7,
   "id": "3341a7f8",
   "metadata": {},
   "outputs": [
    {
     "name": "stdout",
     "output_type": "stream",
     "text": [
      "Enter your number:858\n",
      "it is a palindrome number\n"
     ]
    }
   ],
   "source": [
    "#16.Palindrome sequence\n",
    "\n",
    "def palindrome(n):\n",
    "    temp=n\n",
    "    rev=0\n",
    "    while(n>0):\n",
    "        d=n%10\n",
    "        rev=rev*10+d\n",
    "        n=n//10\n",
    "    if temp==rev:\n",
    "        print(\"it is a palindrome number\")\n",
    "    else:\n",
    "        print(\"it is not palindrom number\")\n",
    "n=int(input(\"Enter your number:\"))\n",
    "palindrome(n)"
   ]
  },
  {
   "cell_type": "code",
   "execution_count": 5,
   "id": "a5789805",
   "metadata": {
    "scrolled": true
   },
   "outputs": [
    {
     "name": "stdout",
     "output_type": "stream",
     "text": [
      "Initial list: \n",
      "[15, 86, 95, 76, 73, 64]\n",
      "Updated list after swapping:\n",
      "[64, 86, 95, 76, 73, 15]\n"
     ]
    }
   ],
   "source": [
    "#17.Swapping first and last element\n",
    "\n",
    "my_list = [15,86,95,76,73,64]\n",
    "print(\"Initial list: \")\n",
    "print(my_list)\n",
    "my_list[0], my_list[-1] = my_list[-1], my_list[0]\n",
    "print(\"Updated list after swapping:\")\n",
    "print(my_list)"
   ]
  },
  {
   "cell_type": "code",
   "execution_count": 21,
   "id": "70c7d2c6",
   "metadata": {
    "scrolled": true
   },
   "outputs": [
    {
     "name": "stdout",
     "output_type": "stream",
     "text": [
      "The initial list is:\n",
      "[58, 75, 69, 37, 25, 589]\n",
      "Enter i1:2\n",
      "Enter i2:3\n",
      "The Updated list is:\n",
      "[58, 75, 37, 69, 25, 589]\n"
     ]
    }
   ],
   "source": [
    "#18.Swapping of two numbers in a list\n",
    "\n",
    "my_list = [58,75,69,37,25,589]\n",
    "print(\"The initial list is:\")\n",
    "print(my_list)\n",
    "i1 =int(input(\"Enter i1:\"))\n",
    "i2 =int(input(\"Enter i2:\"))\n",
    "temp = my_list[i1]\n",
    "my_list[i1] = my_list[i2]\n",
    "my_list[i2] = temp\n",
    "print(\"The Updated list is:\")\n",
    "print(my_list)\n"
   ]
  },
  {
   "cell_type": "code",
   "execution_count": 4,
   "id": "c8c0301c",
   "metadata": {},
   "outputs": [
    {
     "name": "stdout",
     "output_type": "stream",
     "text": [
      "My list elements: \n",
      "[46, 79, 53, 75, 56, 498, 53]\n",
      "The total length of my list is: \n",
      "7\n"
     ]
    }
   ],
   "source": [
    "#19.Length of a list:\n",
    "my_list = [46,79,53,75,56,498,53]\n",
    "print(\"My list elements: \")\n",
    "print(my_list)\n",
    "length = len(my_list)\n",
    "print(\"The total length of my list is: \")\n",
    "print(length)\n"
   ]
  },
  {
   "cell_type": "code",
   "execution_count": 40,
   "id": "7deeb8ed",
   "metadata": {},
   "outputs": [
    {
     "name": "stdout",
     "output_type": "stream",
     "text": [
      "Enter A: 5\n",
      "Enter B: 8\n",
      "B is greater\n"
     ]
    }
   ],
   "source": [
    "#20.Maximum of two numbers\n",
    "\n",
    "a=int(input(\"Enter A: \"))\n",
    "b=int(input(\"Enter B: \"))\n",
    "if (a>b):\n",
    "    print(\"A is greater\")\n",
    "else:\n",
    "    print(\"B is greater\")"
   ]
  },
  {
   "cell_type": "code",
   "execution_count": 41,
   "id": "696bcb1f",
   "metadata": {
    "scrolled": false
   },
   "outputs": [
    {
     "name": "stdout",
     "output_type": "stream",
     "text": [
      "Enter A: 5\n",
      "Enter B: 8\n",
      "A is smaller\n"
     ]
    }
   ],
   "source": [
    "#21.Minimum of two numbers\n",
    "\n",
    "a=int(input(\"Enter A: \"))\n",
    "b=int(input(\"Enter B: \"))\n",
    "if (a<b):\n",
    "    print(\"A is smaller\")\n",
    "else:\n",
    "    print(\"B is smaller\")"
   ]
  },
  {
   "cell_type": "code",
   "execution_count": 14,
   "id": "257d11f1",
   "metadata": {},
   "outputs": [
    {
     "name": "stdout",
     "output_type": "stream",
     "text": [
      "Enter the string:malayalam\n",
      "The string is symmetrical\n",
      "The string is a palindrome\n"
     ]
    }
   ],
   "source": [
    "#22.Palindrome and Symmetricity of a srting\n",
    "\n",
    "my_string = input(\"Enter the string:\")\n",
    "symmetrical = my_string == my_string[::-1]\n",
    "palindrome = my_string == \"\".join(reversed(my_string))\n",
    "if symmetrical:\n",
    "    print(\"The string is symmetrical\")\n",
    "else:\n",
    "    print(\"The string is not symmetrical\")\n",
    "if palindrome:\n",
    "    print(\"The string is a palindrome\")\n",
    "else:\n",
    "    print(\"The string is not a palindrome\")\n"
   ]
  },
  {
   "cell_type": "code",
   "execution_count": 11,
   "id": "261d45ef",
   "metadata": {},
   "outputs": [
    {
     "name": "stdout",
     "output_type": "stream",
     "text": [
      "My initial string is:\n",
      "Python Programming\n",
      "My reversed string is:\n",
      "Programming Python\n"
     ]
    }
   ],
   "source": [
    "#23.Reversing of string\n",
    "\n",
    "my_string = \"Python Programming\"\n",
    "print(\"My initial string is:\")\n",
    "print(my_string)\n",
    "words = my_string.split()\n",
    "words.reverse()\n",
    "new_string = \" \".join(words)\n",
    "print(\"My reversed string is:\")\n",
    "print(new_string)"
   ]
  },
  {
   "cell_type": "code",
   "execution_count": 8,
   "id": "55dd93c6",
   "metadata": {},
   "outputs": [
    {
     "name": "stdout",
     "output_type": "stream",
     "text": [
      "Enter the index number to be removed:8\n",
      "Hello, Wrld!\n"
     ]
    }
   ],
   "source": [
    "#24.Removing of index\n",
    "\n",
    "my_string = \"Hello, World!\"\n",
    "index_to_remove =int(input(\"Enter the index number to be removed:\"))\n",
    "\n",
    "new_string = my_string[:index_to_remove] + my_string[index_to_remove+1:]\n",
    "\n",
    "print(new_string)\n"
   ]
  },
  {
   "cell_type": "code",
   "execution_count": 7,
   "id": "995c1b85",
   "metadata": {
    "scrolled": true
   },
   "outputs": [
    {
     "name": "stdout",
     "output_type": "stream",
     "text": [
      "Length of my string is:\n",
      "18\n"
     ]
    }
   ],
   "source": [
    "#25.Length of the string\n",
    "\n",
    "my_string = \"This is my program\"\n",
    "string_length = len(my_string)\n",
    "print(\"Length of my string is:\")\n",
    "print(string_length)\n"
   ]
  },
  {
   "cell_type": "code",
   "execution_count": 25,
   "id": "65cde881",
   "metadata": {
    "scrolled": true
   },
   "outputs": [
    {
     "name": "stdout",
     "output_type": "stream",
     "text": [
      "Enter your string:\n",
      "hi there this is me\n",
      "The even indexed strings are:\n",
      "hi\n",
      "this\n",
      "is\n",
      "me\n"
     ]
    }
   ],
   "source": [
    "#26.Python code to print even length words in string\n",
    "print(\"Enter your string:\")\n",
    "n=input()\n",
    "s=n.split(\" \")\n",
    "print(\"The even indexed strings are:\")\n",
    "for i in s:\n",
    "  #checking the length of words\n",
    "  if len(i)%2==0:\n",
    "    print(i)"
   ]
  },
  {
   "cell_type": "code",
   "execution_count": 28,
   "id": "18ec87d6",
   "metadata": {},
   "outputs": [
    {
     "name": "stdout",
     "output_type": "stream",
     "text": [
      "The size of the tuple is 80 bytes\n"
     ]
    }
   ],
   "source": [
    "#27.Python Tuple Size\n",
    "\n",
    "import sys\n",
    "\n",
    "# Define a tuple\n",
    "my_tuple = (19,9,3,'hi','there')\n",
    "\n",
    "# Get the size of the tuple in bytes\n",
    "size = sys.getsizeof(my_tuple)\n",
    "\n",
    "# Print the size in bytes\n",
    "print(f\"The size of the tuple is {size} bytes\")\n"
   ]
  },
  {
   "cell_type": "code",
   "execution_count": 31,
   "id": "f7a387e1",
   "metadata": {},
   "outputs": [
    {
     "name": "stdout",
     "output_type": "stream",
     "text": [
      "Enter no. of elements needed:5\n",
      "The 5 largest elements in the tuple are: [2562, 962, 858, 595, 262]\n",
      "The 5 smallest elements in the tuple are: [6, 25, 52, 55, 262]\n"
     ]
    }
   ],
   "source": [
    "#28.Max and Min K  elements of a tuple :\n",
    "\n",
    "import heapq\n",
    "\n",
    "def find_k_largest_smallest_elements(k, my_tuple):\n",
    "    # Find the k largest elements using the nlargest function\n",
    "    largest_elements = heapq.nlargest(k, my_tuple)\n",
    "    # Find the k smallest elements using the nsmallest function\n",
    "    smallest_elements = heapq.nsmallest(k, my_tuple)\n",
    "    return largest_elements, smallest_elements\n",
    "\n",
    "# Example usage\n",
    "my_tuple = (55,595,262,962,858,25,2562,52,6)\n",
    "k=int(input(\"Enter no. of elements needed:\"))\n",
    "largest, smallest = find_k_largest_smallest_elements(k, my_tuple)\n",
    "print(f\"The {k} largest elements in the tuple are: {largest}\")\n",
    "print(f\"The {k} smallest elements in the tuple are: {smallest}\")\n"
   ]
  },
  {
   "cell_type": "code",
   "execution_count": 36,
   "id": "fb0ec746",
   "metadata": {},
   "outputs": [
    {
     "name": "stdout",
     "output_type": "stream",
     "text": [
      "Tuple= (16, 132, 53, 44, 56)\n",
      "The sum of my tuple elements is: 301\n"
     ]
    }
   ],
   "source": [
    "#29.Sum of tuple elements\n",
    "\n",
    "my_tuple=(16,132,53, 44, 56)\n",
    "print(\"Tuple=\",my_tuple)\n",
    "sum_of_tuple = sum(my_tuple)\n",
    "print(\"The sum of my tuple elements is:\", sum_of_tuple)\n",
    "\n"
   ]
  },
  {
   "cell_type": "code",
   "execution_count": 42,
   "id": "ee0374f9",
   "metadata": {},
   "outputs": [
    {
     "name": "stdout",
     "output_type": "stream",
     "text": [
      "My row matrix: ((18, 25, 32), (47, 55, 36), (71, 58, 99))\n",
      "The sum of each row matrix is:\n",
      "75\n",
      "138\n",
      "228\n"
     ]
    }
   ],
   "source": [
    "#30.Addition of row matrix\n",
    "\n",
    "matrix = ((18,25,32),(47,55,36),(71,58,99))\n",
    "print(\"My row matrix:\",matrix)\n",
    "print(\"The sum of each row matrix is:\")\n",
    "for row in matrix:\n",
    "    row_sum = sum(row)\n",
    "    print(row_sum)\n"
   ]
  },
  {
   "cell_type": "code",
   "execution_count": 21,
   "id": "d0ef688f",
   "metadata": {},
   "outputs": [
    {
     "name": "stdout",
     "output_type": "stream",
     "text": [
      "The initial list is: \n",
      "[1, 2, 3, 4, 5]\n",
      "The result list is: \n",
      "(1, 1)\n",
      "(2, 8)\n",
      "(3, 27)\n",
      "(4, 64)\n",
      "(5, 125)\n"
     ]
    }
   ],
   "source": [
    "#31.Tuples and their cubes:\n",
    "\n",
    "given_list = [1, 2, 3, 4, 5]\n",
    "print(\"The initial list is: \")\n",
    "print(given_list)\n",
    "print(\"The result list is: \")\n",
    "for num in given_list:\n",
    "    \n",
    "    result_list = (num, num ** 3)\n",
    "    print(result_list)\n",
    "    \n"
   ]
  },
  {
   "cell_type": "code",
   "execution_count": 27,
   "id": "50577c36",
   "metadata": {},
   "outputs": [
    {
     "name": "stdout",
     "output_type": "stream",
     "text": [
      "Initial Dictionary list is: \n",
      "{'c': 3, 'a': 1, 'b': 2}\n",
      "The sorted Dictionary is: \n",
      "{'a': 1, 'b': 2, 'c': 3}\n"
     ]
    }
   ],
   "source": [
    "#32.Sort python dictionaries by key or values:\n",
    "\n",
    "my_dict = {'c': 3, 'a': 1, 'b': 2}\n",
    "print(\"Initial Dictionary list is: \")\n",
    "print(my_dict)\n",
    "sorted_dict = {k: v for k, v in sorted(my_dict.items(), key=lambda item: item[1])}\n",
    "print(\"The sorted Dictionary is: \")\n",
    "print(sorted_dict)\n"
   ]
  },
  {
   "cell_type": "code",
   "execution_count": 29,
   "id": "5423d36d",
   "metadata": {},
   "outputs": [
    {
     "name": "stdout",
     "output_type": "stream",
     "text": [
      "42\n",
      "27\n"
     ]
    }
   ],
   "source": [
    "#33.Define a dictionary with keys that have multiple inputs\n",
    "my_dict = {('John', 'Doe'): 42, ('Jane', 'Doe'): 27}\n",
    "\n",
    "# Access values using keys\n",
    "print(my_dict[('John', 'Doe')])   # Output: 42\n",
    "print(my_dict[('Jane', 'Doe')])   # Output: 27\n",
    "\n"
   ]
  },
  {
   "cell_type": "code",
   "execution_count": 31,
   "id": "cb7d0bfd",
   "metadata": {},
   "outputs": [
    {
     "name": "stdout",
     "output_type": "stream",
     "text": [
      "My initial dictionary values: \n",
      "{'a': 10, 'b': 20, 'c': 30, 'd': 40}\n",
      "Sum of all items in the dictionary: 100\n"
     ]
    }
   ],
   "source": [
    "#34.Sum of all item in a dictionary\n",
    "\n",
    "my_dict = {'a': 10, 'b': 20, 'c': 30, 'd': 40}\n",
    "print(\"My initial dictionary values: \")\n",
    "print(my_dict)\n",
    "\n",
    "\n",
    "# Calculate the sum of all values in the dictionary\n",
    "sum_of_values = sum(my_dict.values())\n",
    "\n",
    "print(\"Sum of all items in the dictionary:\", sum_of_values)\n"
   ]
  },
  {
   "cell_type": "code",
   "execution_count": 32,
   "id": "28272ee0",
   "metadata": {},
   "outputs": [
    {
     "name": "stdout",
     "output_type": "stream",
     "text": [
      "Size of the dictionary: 4\n"
     ]
    }
   ],
   "source": [
    "#35.Size of a dictionary :\n",
    "\n",
    "my_dict = {'a': 10, 'b': 20, 'c': 30, 'd': 40}\n",
    "\n",
    "# Calculate the size of the dictionary\n",
    "size_of_dict = len(my_dict)\n",
    "\n",
    "print(\"Size of the dictionary:\", size_of_dict)\n"
   ]
  },
  {
   "cell_type": "code",
   "execution_count": 33,
   "id": "77cac5f9",
   "metadata": {},
   "outputs": [
    {
     "name": "stdout",
     "output_type": "stream",
     "text": [
      "Size of the set: 5\n"
     ]
    }
   ],
   "source": [
    "#36.Size of a set :\n",
    "\n",
    "my_set = {1, 2, 3, 4, 5}\n",
    "\n",
    "# Calculate the size of the set\n",
    "size_of_set = len(my_set)\n",
    "\n",
    "print(\"Size of the set:\", size_of_set)\n"
   ]
  },
  {
   "cell_type": "code",
   "execution_count": 35,
   "id": "027434a4",
   "metadata": {},
   "outputs": [
    {
     "name": "stdout",
     "output_type": "stream",
     "text": [
      "The elements my set are : \n",
      "1\n",
      "2\n",
      "3\n",
      "4\n",
      "5\n"
     ]
    }
   ],
   "source": [
    "#37.Iterate over a set :\n",
    "\n",
    "my_set = {1, 2, 3, 4, 5}\n",
    "print (\"The elements my set are : \")\n",
    "# Iterate over the set\n",
    "for element in my_set:\n",
    "    print(element)\n",
    "\n",
    "    "
   ]
  },
  {
   "cell_type": "code",
   "execution_count": 36,
   "id": "a99f357c",
   "metadata": {},
   "outputs": [
    {
     "name": "stdout",
     "output_type": "stream",
     "text": [
      "Maximum value: 8\n",
      "Minimum value: 1\n"
     ]
    }
   ],
   "source": [
    "#38.Minimum and maximum in a set :\n",
    "\n",
    "my_set = {5, 2, 8, 1, 3}\n",
    "\n",
    "# Find the maximum value in the set\n",
    "maximum_value = max(my_set)\n",
    "\n",
    "# Find the minimum value in the set\n",
    "minimum_value = min(my_set)\n",
    "\n",
    "print(\"Maximum value:\", maximum_value)\n",
    "print(\"Minimum value:\", minimum_value)\n"
   ]
  },
  {
   "cell_type": "code",
   "execution_count": 43,
   "id": "98adfde3",
   "metadata": {},
   "outputs": [
    {
     "name": "stdout",
     "output_type": "stream",
     "text": [
      "My initial list : \n",
      "{1, 2, 3, 4, 5}\n",
      "After removing element from the list: \n",
      "{1, 2, 4, 5}\n"
     ]
    }
   ],
   "source": [
    "#39.Remove items from set :\n",
    "\n",
    "my_set = {1, 2, 3, 4, 5}\n",
    "print(\"My initial list : \")\n",
    "print(my_set)\n",
    "# Remove an element from the set\n",
    "my_set.remove(3)\n",
    "print(\"After removing element from the list: \")\n",
    "print(my_set)\n",
    "\n",
    "\n",
    "\n",
    "\n"
   ]
  },
  {
   "cell_type": "code",
   "execution_count": 44,
   "id": "bc8dea97",
   "metadata": {},
   "outputs": [
    {
     "name": "stdout",
     "output_type": "stream",
     "text": [
      "The lists do not have any common element.\n"
     ]
    }
   ],
   "source": [
    "#40.Atleast 1 common element :\n",
    "\n",
    "my_list1 = [1, 2, 3, 4, 5]\n",
    "my_list2 = [6, 7, 8, 9, 10]\n",
    "\n",
    "# Convert lists to sets\n",
    "set1 = set(my_list1)\n",
    "set2 = set(my_list2)\n",
    "\n",
    "# Check if there is at least one common element\n",
    "if set1.intersection(set2):\n",
    "    print(\"The lists have at least one common element.\")\n",
    "else:\n",
    "    print(\"The lists do not have any common element.\")\n"
   ]
  },
  {
   "cell_type": "code",
   "execution_count": 47,
   "id": "d0abe733",
   "metadata": {},
   "outputs": [
    {
     "name": "stdout",
     "output_type": "stream",
     "text": [
      "My matrix is:\n",
      "[[1, 2, 3], [1, 2, 3], [1, 2, 3]]\n"
     ]
    }
   ],
   "source": [
    "#41.Assigning subsequent rows to matrix : \n",
    "\n",
    " matrix = [[1, 2, 3],\n",
    "          [4, 5, 6],\n",
    "          [7, 8, 9]]\n",
    "print(\"My matrix is:\")\n",
    "# Assign subsequent rows to the first row elements\n",
    "for i in range(1, len(matrix)):\n",
    "    matrix[i] = matrix[0]\n",
    "\n",
    "print(matrix)\n",
    "\n"
   ]
  },
  {
   "cell_type": "code",
   "execution_count": 48,
   "id": "4813bbe1",
   "metadata": {},
   "outputs": [
    {
     "name": "stdout",
     "output_type": "stream",
     "text": [
      "Matrix Addition:\n",
      "[11, 13, 15]\n",
      "[17, 19, 21]\n",
      "[23, 25, 27]\n",
      "Matrix Subtraction:\n",
      "[-9, -9, -9]\n",
      "[-9, -9, -9]\n",
      "[-9, -9, -9]\n"
     ]
    }
   ],
   "source": [
    "#42.Matrix addition and subtraction :\n",
    "matrix1 = [[1, 2, 3],\n",
    "           [4, 5, 6],\n",
    "           [7, 8, 9]]\n",
    "\n",
    "matrix2 = [[10, 11, 12],\n",
    "           [13, 14, 15],\n",
    "           [16, 17, 18]]\n",
    "\n",
    "# Initialize an empty matrix for the result\n",
    "result = [[0, 0, 0],\n",
    "          [0, 0, 0],\n",
    "          [0, 0, 0]]\n",
    "\n",
    "# Perform matrix addition\n",
    "for i in range(len(matrix1)):\n",
    "    for j in range(len(matrix1[0])):\n",
    "        result[i][j] = matrix1[i][j] + matrix2[i][j]\n",
    "\n",
    "print(\"Matrix Addition:\")\n",
    "for row in result:\n",
    "    print(row)\n",
    "\n",
    "# Perform matrix subtraction\n",
    "for i in range(len(matrix1)):\n",
    "    for j in range(len(matrix1[0])):\n",
    "        result[i][j] = matrix1[i][j] - matrix2[i][j]\n",
    "\n",
    "print(\"Matrix Subtraction:\")\n",
    "for row in result:\n",
    "    print(row)\n"
   ]
  },
  {
   "cell_type": "code",
   "execution_count": 50,
   "id": "cc11c765",
   "metadata": {},
   "outputs": [
    {
     "name": "stdout",
     "output_type": "stream",
     "text": [
      "[1, 2, 3, 4, 5]\n",
      "[1, 2, 3, 4, 5]\n",
      "[None, None, None, None, 5]\n"
     ]
    }
   ],
   "source": [
    "#43.Similar elements into a matrix :\n",
    "\n",
    "elements = [1, 2, 3, 2, 1, 3, 4, 5, 4, 5, 5]\n",
    "\n",
    "# Count the occurrences of each element\n",
    "element_counts = {}\n",
    "for element in elements:\n",
    "    if element in element_counts:\n",
    "        element_counts[element] += 1\n",
    "    else:\n",
    "        element_counts[element] = 1\n",
    "\n",
    "# Determine the dimensions of the matrix\n",
    "num_rows = max(element_counts.values())\n",
    "num_cols = len(element_counts)\n",
    "\n",
    "# Create the matrix and fill it with the elements\n",
    "matrix = [[None] * num_cols for _ in range(num_rows)]\n",
    "for col, element in enumerate(element_counts):\n",
    "    count = element_counts[element]\n",
    "    for row in range(count):\n",
    "        matrix[row][col] = element\n",
    "\n",
    "# Print the resulting matrix\n",
    "for row in matrix:\n",
    "    print(row)\n",
    "\n",
    "\n"
   ]
  },
  {
   "cell_type": "code",
   "execution_count": 51,
   "id": "0b954c3b",
   "metadata": {},
   "outputs": [
    {
     "name": "stdout",
     "output_type": "stream",
     "text": [
      "Row-wise sums:\n",
      "12\n",
      "15\n",
      "18\n"
     ]
    }
   ],
   "source": [
    "#44.Row wise addition :\n",
    "\n",
    "matrix = ((1, 2, 3),\n",
    "          (4, 5, 6),\n",
    "          (7, 8, 9))\n",
    "\n",
    "# Perform row-wise element addition\n",
    "row_sums = [sum(row) for row in zip(*matrix)]\n",
    "\n",
    "# Print the row-wise sums\n",
    "print(\"Row-wise sums:\")\n",
    "for sum_value in row_sums:\n",
    "    print(sum_value)\n"
   ]
  },
  {
   "cell_type": "code",
   "execution_count": 52,
   "id": "10a44d9b",
   "metadata": {},
   "outputs": [
    {
     "name": "stdout",
     "output_type": "stream",
     "text": [
      "[1, 0, 1, 0]\n",
      "[0, 1, 0, 1]\n",
      "[1, 0, 1, 0]\n",
      "[0, 1, 0, 1]\n"
     ]
    }
   ],
   "source": [
    "#45.n * n square matrix :\n",
    "\n",
    "def create_even_submatrix(n):\n",
    "    matrix = [[0] * n for _ in range(n)]\n",
    "\n",
    "    for i in range(n):\n",
    "        for j in range(n):\n",
    "            if (i + j) % 2 == 0:\n",
    "                matrix[i][j] = 1\n",
    "\n",
    "    return matrix\n",
    "\n",
    "\n",
    "# Test the function\n",
    "n = 4\n",
    "result = create_even_submatrix(n)\n",
    "\n",
    "# Print the resulting matrix\n",
    "for row in result:\n",
    "    print(row)\n"
   ]
  },
  {
   "cell_type": "code",
   "execution_count": 60,
   "id": "2f2d4c25",
   "metadata": {},
   "outputs": [
    {
     "name": "stdout",
     "output_type": "stream",
     "text": [
      "['guna', 'dinesh', 'kannan']\n"
     ]
    }
   ],
   "source": [
    "#46.List of parameters name from a function : \n",
    "\n",
    "import inspect\n",
    "\n",
    "def my_function(guna,dinesh, kannan):\n",
    "    pass\n",
    "\n",
    "# Get the parameter names of the function\n",
    "parameters = inspect.signature(my_function).parameters\n",
    "parameter_names = list(parameters.keys())\n",
    "\n",
    "# Print the parameter names\n",
    "print(parameter_names)\n"
   ]
  },
  {
   "cell_type": "code",
   "execution_count": 64,
   "id": "64eed037",
   "metadata": {},
   "outputs": [
    {
     "name": "stdout",
     "output_type": "stream",
     "text": [
      "John 30 New York\n"
     ]
    }
   ],
   "source": [
    "#47.Multiple Arguments:\n",
    "\n",
    "name = \"John\"\n",
    "age = 30\n",
    "city = \"New York\"\n",
    "\n",
    "print(name, age, city)\n"
   ]
  },
  {
   "cell_type": "code",
   "execution_count": 66,
   "id": "6a1e5b1c",
   "metadata": {},
   "outputs": [
    {
     "name": "stdout",
     "output_type": "stream",
     "text": [
      "Enter the base: 8\n",
      "Enter the power: 6\n",
      "8 raised to the power of 6 is: 262144\n"
     ]
    }
   ],
   "source": [
    "#48.Power of a number:\n",
    "\n",
    "def power(base, exponent):\n",
    "    if exponent == 0:\n",
    "        return 1\n",
    "    elif exponent < 0:\n",
    "        return 1 / power(base, -exponent)\n",
    "    else:\n",
    "        return base * power(base, exponent - 1)\n",
    "\n",
    "# Example usage\n",
    "base =int(input(\"Enter the base: \"))\n",
    "exponent =int(input(\"Enter the power: \"))\n",
    "result = power(base, exponent)\n",
    "print(f\"{base} raised to the power of {exponent} is: {result}\")\n"
   ]
  },
  {
   "cell_type": "code",
   "execution_count": 1,
   "id": "788d71e3",
   "metadata": {},
   "outputs": [
    {
     "name": "stdout",
     "output_type": "stream",
     "text": [
      "MyClass(name='Object 2', value=2)\n",
      "MyClass(name='Object 1', value=5)\n",
      "MyClass(name='Object 3', value=8)\n"
     ]
    }
   ],
   "source": [
    "#49.Sorting of user defined class :\n",
    "\n",
    "class MyClass:\n",
    "    def __init__(self, name, value):\n",
    "        self.name = name\n",
    "        self.value = value\n",
    "\n",
    "    def __repr__(self):\n",
    "        return f\"MyClass(name='{self.name}', value={self.value})\"\n",
    "\n",
    "\n",
    "# Create instances of MyClass\n",
    "obj1 = MyClass(\"Object 1\", 5)\n",
    "obj2 = MyClass(\"Object 2\", 2)\n",
    "obj3 = MyClass(\"Object 3\", 8)\n",
    "\n",
    "# Create a list of objects\n",
    "my_objects = [obj1, obj2, obj3]\n",
    "\n",
    "# Sort the objects based on the 'value' attribute\n",
    "sorted_objects = sorted(my_objects, key=lambda x: x.value)\n",
    "\n",
    "# Print the sorted objects\n",
    "for obj in sorted_objects:\n",
    "    print(obj)\n"
   ]
  },
  {
   "cell_type": "code",
   "execution_count": 70,
   "id": "9923e7d0",
   "metadata": {},
   "outputs": [
    {
     "name": "stdout",
     "output_type": "stream",
     "text": [
      "name: Guna\n",
      "age: 18\n",
      "city: Keezhpaakam\n"
     ]
    }
   ],
   "source": [
    "#50.Accept key value pair as arguments:\n",
    "\n",
    "def print_kwargs(**kwargs):\n",
    "    for key, value in kwargs.items():\n",
    "        print(f\"{key}: {value}\")\n",
    "\n",
    "# Example usage\n",
    "print_kwargs(name=\"Guna\", age=18, city=\"Keezhpaakam\")\n"
   ]
  },
  {
   "cell_type": "code",
   "execution_count": null,
   "id": "874b8081",
   "metadata": {},
   "outputs": [],
   "source": []
  }
 ],
 "metadata": {
  "kernelspec": {
   "display_name": "Python 3 (ipykernel)",
   "language": "python",
   "name": "python3"
  },
  "language_info": {
   "codemirror_mode": {
    "name": "ipython",
    "version": 3
   },
   "file_extension": ".py",
   "mimetype": "text/x-python",
   "name": "python",
   "nbconvert_exporter": "python",
   "pygments_lexer": "ipython3",
   "version": "3.10.9"
  }
 },
 "nbformat": 4,
 "nbformat_minor": 5
}
